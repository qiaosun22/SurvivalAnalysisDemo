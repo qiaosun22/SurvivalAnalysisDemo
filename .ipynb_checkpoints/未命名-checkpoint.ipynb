{
 "cells": [
  {
   "cell_type": "code",
   "execution_count": 1,
   "id": "8fbbfa36",
   "metadata": {},
   "outputs": [],
   "source": [
    "import numpy as np\n"
   ]
  },
  {
   "cell_type": "code",
   "execution_count": 2,
   "id": "a3af073c",
   "metadata": {},
   "outputs": [],
   "source": [
    "x=np.array([[5,-9],[2,1]])\n",
    "xt=x.transpose()"
   ]
  },
  {
   "cell_type": "code",
   "execution_count": 16,
   "id": "b164df0d",
   "metadata": {},
   "outputs": [
    {
     "data": {
      "text/plain": [
       "array([[0.15500945, 0.08128544],\n",
       "       [0.08128544, 0.05482042]])"
      ]
     },
     "execution_count": 16,
     "metadata": {},
     "output_type": "execute_result"
    }
   ],
   "source": [
    "np.linalg.inv(np.matmul(xt, x))"
   ]
  },
  {
   "cell_type": "code",
   "execution_count": 17,
   "id": "7e9b7c67",
   "metadata": {},
   "outputs": [
    {
     "data": {
      "text/plain": [
       "array([[ 1.00000000e+00,  0.00000000e+00],\n",
       "       [-6.66133815e-16,  1.00000000e+00]])"
      ]
     },
     "execution_count": 17,
     "metadata": {},
     "output_type": "execute_result"
    }
   ],
   "source": [
    "px=np.matmul(np.matmul(x, np.linalg.inv(np.matmul(xt, x))),xt)\n",
    "px"
   ]
  },
  {
   "cell_type": "code",
   "execution_count": 4,
   "id": "de3bfe52",
   "metadata": {},
   "outputs": [],
   "source": [
    "z=np.array([[1],[4]])\n",
    "zt=z.transpose()"
   ]
  },
  {
   "cell_type": "code",
   "execution_count": 5,
   "id": "8b7379a0",
   "metadata": {},
   "outputs": [
    {
     "data": {
      "text/plain": [
       "array([[1, 4]])"
      ]
     },
     "execution_count": 5,
     "metadata": {},
     "output_type": "execute_result"
    }
   ],
   "source": [
    "zt"
   ]
  },
  {
   "cell_type": "code",
   "execution_count": 6,
   "id": "a7c42d0b",
   "metadata": {},
   "outputs": [
    {
     "data": {
      "text/plain": [
       "array([[ 17,  68],\n",
       "       [ 68, 272]])"
      ]
     },
     "execution_count": 6,
     "metadata": {},
     "output_type": "execute_result"
    }
   ],
   "source": [
    "pz=np.matmul(np.matmul(z, np.linalg.inv(np.matmul(zt, z))),zt)\n",
    "pz"
   ]
  },
  {
   "cell_type": "code",
   "execution_count": 7,
   "id": "620f1230",
   "metadata": {},
   "outputs": [
    {
     "data": {
      "text/plain": [
       "array([[198577,   3655],\n",
       "       [794308,  14620]])"
      ]
     },
     "execution_count": 7,
     "metadata": {},
     "output_type": "execute_result"
    }
   ],
   "source": [
    "np.matmul(pz, px)"
   ]
  },
  {
   "cell_type": "code",
   "execution_count": 8,
   "id": "30916e36",
   "metadata": {},
   "outputs": [
    {
     "data": {
      "text/plain": [
       "array([[198577, 794308],\n",
       "       [  3655,  14620]])"
      ]
     },
     "execution_count": 8,
     "metadata": {},
     "output_type": "execute_result"
    }
   ],
   "source": [
    "np.matmul(px, pz)"
   ]
  },
  {
   "cell_type": "code",
   "execution_count": 9,
   "id": "303b0797",
   "metadata": {},
   "outputs": [
    {
     "data": {
      "text/plain": [
       "array([[11237,   111],\n",
       "       [  111,    26]])"
      ]
     },
     "execution_count": 9,
     "metadata": {},
     "output_type": "execute_result"
    }
   ],
   "source": [
    "px"
   ]
  },
  {
   "cell_type": "code",
   "execution_count": 10,
   "id": "fd0a7b84",
   "metadata": {},
   "outputs": [
    {
     "data": {
      "text/plain": [
       "array([[ 17,  68],\n",
       "       [ 68, 272]])"
      ]
     },
     "execution_count": 10,
     "metadata": {},
     "output_type": "execute_result"
    }
   ],
   "source": [
    "pz"
   ]
  }
 ],
 "metadata": {
  "kernelspec": {
   "display_name": "Python 3 (ipykernel)",
   "language": "python",
   "name": "python3"
  },
  "language_info": {
   "codemirror_mode": {
    "name": "ipython",
    "version": 3
   },
   "file_extension": ".py",
   "mimetype": "text/x-python",
   "name": "python",
   "nbconvert_exporter": "python",
   "pygments_lexer": "ipython3",
   "version": "3.9.12"
  }
 },
 "nbformat": 4,
 "nbformat_minor": 5
}
