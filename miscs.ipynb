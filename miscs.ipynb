{
 "cells": [
  {
   "cell_type": "code",
   "execution_count": 1,
   "id": "ae243c08",
   "metadata": {},
   "outputs": [],
   "source": [
    "import numpy as np\n"
   ]
  },
  {
   "cell_type": "code",
   "execution_count": 2,
   "id": "e934817e",
   "metadata": {},
   "outputs": [],
   "source": [
    "x=np.array([[5,-9],[2,1]])\n",
    "xt=x.transpose()"
   ]
  },
  {
   "cell_type": "code",
   "execution_count": 3,
   "id": "96bf648b",
   "metadata": {},
   "outputs": [
    {
     "data": {
      "text/plain": [
       "array([[0.15500945, 0.08128544],\n",
       "       [0.08128544, 0.05482042]])"
      ]
     },
     "execution_count": 3,
     "metadata": {},
     "output_type": "execute_result"
    }
   ],
   "source": [
    "np.linalg.inv(np.matmul(xt, x))"
   ]
  },
  {
   "cell_type": "code",
   "execution_count": 4,
   "id": "24a2dee6",
   "metadata": {},
   "outputs": [
    {
     "data": {
      "text/plain": [
       "array([[ 1.00000000e+00,  0.00000000e+00],\n",
       "       [-6.66133815e-16,  1.00000000e+00]])"
      ]
     },
     "execution_count": 4,
     "metadata": {},
     "output_type": "execute_result"
    }
   ],
   "source": [
    "px=np.matmul(np.matmul(x, np.linalg.inv(np.matmul(xt, x))),xt)\n",
    "px"
   ]
  },
  {
   "cell_type": "code",
   "execution_count": 5,
   "id": "815555c7",
   "metadata": {},
   "outputs": [],
   "source": [
    "z=np.array([[1],[4]])\n",
    "zt=z.transpose()"
   ]
  },
  {
   "cell_type": "code",
   "execution_count": 6,
   "id": "71cff832",
   "metadata": {},
   "outputs": [
    {
     "data": {
      "text/plain": [
       "array([[1, 4]])"
      ]
     },
     "execution_count": 6,
     "metadata": {},
     "output_type": "execute_result"
    }
   ],
   "source": [
    "zt"
   ]
  },
  {
   "cell_type": "code",
   "execution_count": 7,
   "id": "261356e6",
   "metadata": {},
   "outputs": [
    {
     "data": {
      "text/plain": [
       "array([[0.05882353, 0.23529412],\n",
       "       [0.23529412, 0.94117647]])"
      ]
     },
     "execution_count": 7,
     "metadata": {},
     "output_type": "execute_result"
    }
   ],
   "source": [
    "pz=np.matmul(np.matmul(z, np.linalg.inv(np.matmul(zt, z))),zt)\n",
    "pz"
   ]
  },
  {
   "cell_type": "code",
   "execution_count": 8,
   "id": "62ad5a7b",
   "metadata": {},
   "outputs": [
    {
     "data": {
      "text/plain": [
       "array([[0.05882353, 0.23529412],\n",
       "       [0.23529412, 0.94117647]])"
      ]
     },
     "execution_count": 8,
     "metadata": {},
     "output_type": "execute_result"
    }
   ],
   "source": [
    "np.matmul(pz, px)"
   ]
  },
  {
   "cell_type": "code",
   "execution_count": 9,
   "id": "ad9f1693",
   "metadata": {},
   "outputs": [
    {
     "data": {
      "text/plain": [
       "array([[0.05882353, 0.23529412],\n",
       "       [0.23529412, 0.94117647]])"
      ]
     },
     "execution_count": 9,
     "metadata": {},
     "output_type": "execute_result"
    }
   ],
   "source": [
    "np.matmul(px, pz)"
   ]
  },
  {
   "cell_type": "code",
   "execution_count": 10,
   "id": "fa38016f",
   "metadata": {},
   "outputs": [
    {
     "data": {
      "text/plain": [
       "array([[ 1.00000000e+00,  0.00000000e+00],\n",
       "       [-6.66133815e-16,  1.00000000e+00]])"
      ]
     },
     "execution_count": 10,
     "metadata": {},
     "output_type": "execute_result"
    }
   ],
   "source": [
    "px"
   ]
  },
  {
   "cell_type": "code",
   "execution_count": 11,
   "id": "fd251aac",
   "metadata": {},
   "outputs": [
    {
     "data": {
      "text/plain": [
       "array([[0.05882353, 0.23529412],\n",
       "       [0.23529412, 0.94117647]])"
      ]
     },
     "execution_count": 11,
     "metadata": {},
     "output_type": "execute_result"
    }
   ],
   "source": [
    "pz"
   ]
  }
 ],
 "metadata": {
  "kernelspec": {
   "display_name": "Python 3 (ipykernel)",
   "language": "python",
   "name": "python3"
  },
  "language_info": {
   "codemirror_mode": {
    "name": "ipython",
    "version": 3
   },
   "file_extension": ".py",
   "mimetype": "text/x-python",
   "name": "python",
   "nbconvert_exporter": "python",
   "pygments_lexer": "ipython3",
   "version": "3.9.12"
  }
 },
 "nbformat": 4,
 "nbformat_minor": 5
}
